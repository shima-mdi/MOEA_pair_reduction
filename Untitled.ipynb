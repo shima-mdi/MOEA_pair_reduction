{
 "cells": [
  {
   "cell_type": "code",
   "execution_count": 2,
   "id": "397cc150",
   "metadata": {},
   "outputs": [],
   "source": [
    "from numba import jit\n",
    "\n",
    "\n",
    "@jit(nopython=True)\n",
    "def find_all_primes_cpu(upper):\n",
    "    all_prime_numbers = []\n",
    "    for num in range(2, upper):\n",
    "        for i in range(2, (num // 2) + 1):\n",
    "            if (num % i) == 0:\n",
    "                break\n",
    "        else:\n",
    "            all_prime_numbers.append(num)\n",
    "    return all_prime_numbers"
   ]
  },
  {
   "cell_type": "code",
   "execution_count": 3,
   "id": "1abeea63",
   "metadata": {},
   "outputs": [],
   "source": [
    "upper_limit = 10_000"
   ]
  },
  {
   "cell_type": "code",
   "execution_count": 4,
   "id": "db679fb7",
   "metadata": {},
   "outputs": [
    {
     "name": "stdout",
     "output_type": "stream",
     "text": [
      "6.82 ms ± 60.1 µs per loop (mean ± std. dev. of 7 runs, 100 loops each)\n"
     ]
    }
   ],
   "source": [
    "timeit(find_all_primes_cpu(upper_limit))"
   ]
  },
  {
   "cell_type": "code",
   "execution_count": 5,
   "id": "9f4c98d9",
   "metadata": {},
   "outputs": [],
   "source": [
    "from numba import jit\n",
    "\n",
    "\n",
    "def find_all_primes_cpu(upper):\n",
    "    all_prime_numbers = []\n",
    "    for num in range(2, upper):\n",
    "        for i in range(2, (num // 2) + 1):\n",
    "            if (num % i) == 0:\n",
    "                break\n",
    "        else:\n",
    "            all_prime_numbers.append(num)\n",
    "    return all_prime_numbers"
   ]
  },
  {
   "cell_type": "code",
   "execution_count": 6,
   "id": "041c5321",
   "metadata": {},
   "outputs": [
    {
     "name": "stdout",
     "output_type": "stream",
     "text": [
      "70.6 ms ± 398 µs per loop (mean ± std. dev. of 7 runs, 10 loops each)\n"
     ]
    }
   ],
   "source": [
    "timeit(find_all_primes_cpu(upper_limit))"
   ]
  },
  {
   "cell_type": "code",
   "execution_count": null,
   "id": "30a623a8",
   "metadata": {},
   "outputs": [],
   "source": []
  }
 ],
 "metadata": {
  "kernelspec": {
   "display_name": "Python 3 (ipykernel)",
   "language": "python",
   "name": "python3"
  },
  "language_info": {
   "codemirror_mode": {
    "name": "ipython",
    "version": 3
   },
   "file_extension": ".py",
   "mimetype": "text/x-python",
   "name": "python",
   "nbconvert_exporter": "python",
   "pygments_lexer": "ipython3",
   "version": "3.8.13"
  }
 },
 "nbformat": 4,
 "nbformat_minor": 5
}
